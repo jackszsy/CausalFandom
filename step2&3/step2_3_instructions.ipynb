{
 "cells": [
  {
   "cell_type": "markdown",
   "source": [
    "# Instructions of step 2 & 3"
   ],
   "metadata": {
    "collapsed": false
   }
  },
  {
   "cell_type": "markdown",
   "source": [
    "After identify the causes towards each outcome, the causes can be used to predict outcomes. This section uses supervised machine learning methods, linear regression, XGBoost, logistic regression, and other models, to predict the outcome based on the causes, and then evaluates the performance of these models.\n",
    "This section will also compare the performance of use of audience segmentation and the above case both for outcome prediction.\n",
    "In order to contrast with the above two, an additional case is added to the comparison, where only the active stream as well as the programmed stream are used to predict the results."
   ],
   "metadata": {
    "collapsed": false
   }
  },
  {
   "cell_type": "code",
   "execution_count": 12,
   "outputs": [],
   "source": [
    "from func import *"
   ],
   "metadata": {
    "collapsed": false,
    "ExecuteTime": {
     "end_time": "2023-08-22T23:07:50.170313Z",
     "start_time": "2023-08-22T23:07:50.165699Z"
    }
   }
  },
  {
   "cell_type": "markdown",
   "source": [
    "## 1. Load data from disk"
   ],
   "metadata": {
    "collapsed": false
   }
  },
  {
   "cell_type": "code",
   "execution_count": null,
   "metadata": {},
   "outputs": [],
   "source": [
    "# Load data\n",
    "raw_input = load_data('../Data/CausalFandom_main_data.pickle')"
   ]
  },
  {
   "cell_type": "markdown",
   "source": [
    "## 2. Set outcome and causes columns"
   ],
   "metadata": {
    "collapsed": false
   }
  },
  {
   "cell_type": "code",
   "execution_count": null,
   "metadata": {},
   "outputs": [],
   "source": [
    "# outcome in pre and post period\n",
    "preoutcome = {\n",
    "    'ticket':['tickets_pre_period_1'],\n",
    "    'merch':['merch_pre_period_1'],\n",
    "    'share':['shares_pre_period_1'],\n",
    "    'stream':['streams_active_streams_pre_period_1', 'streams_programmed_streams_pre_period_1']\n",
    "}\n",
    "postoutcome = {\n",
    "    'ticket':['tickets_following_four_weeks'],\n",
    "    'merch':['merch_following_four_weeks'],\n",
    "    'share':['shares_following_four_weeks'],\n",
    "    'stream':['streams_active_streams_following_four_weeks', 'streams_programmed_streams_following_four_weeks']\n",
    "}\n",
    "\n",
    "# Total cause list\n",
    "# Hide internal variables name\n",
    "cause_dict = {\n",
    "    'ticket':{\n",
    "        'pre1':[],\n",
    "        'treat':[],\n",
    "        'pre1treat':[]\n",
    "    },\n",
    "    'merch':{\n",
    "        'pre1':[],\n",
    "        'treat':[],\n",
    "        'pre1treat':[],\n",
    "    },\n",
    "    'share':{\n",
    "        'pre1':[],\n",
    "        'treat':[],\n",
    "        'pre1treat':[],\n",
    "    },\n",
    "    'stream':{\n",
    "        'pre1':[],\n",
    "        'treat':[],\n",
    "        'pre1treat':[],\n",
    "    },\n",
    "}\n",
    "\n",
    "# Causes for only stream\n",
    "# Hide internal variables name\n",
    "onlystreamcause = {\n",
    "        'pre1':[],\n",
    "        'treat':[],\n",
    "        'pre1treat':[],\n",
    "}\n",
    "\n",
    "# All possible causes\n",
    "# Hide internal variables name\n",
    "allposscaues = []"
   ]
  },
  {
   "cell_type": "markdown",
   "source": [
    "## 2.1. Set relevant configurations"
   ],
   "metadata": {
    "collapsed": false
   }
  },
  {
   "cell_type": "code",
   "execution_count": null,
   "outputs": [],
   "source": [
    "# Set the bounds to remove extreme values (first bound is for outcome, second is for change)\n",
    "bound_dict = {\n",
    "    'ticket':[100,50],\n",
    "    'merch':[10,5],\n",
    "    'share':[30,15],\n",
    "    'stream':[100,50]\n",
    "}\n",
    "\n",
    "# Set cutoff of Logistic regression's data\n",
    "logcutoff_dict = {\n",
    "    'ticket':[5,0],\n",
    "    'merch':[1,0],\n",
    "    'share':[15,0],\n",
    "    'stream':[50,0]\n",
    "}\n",
    "\n",
    "# Set the minimal number of a value of y\n",
    "samplesize_dict = {\n",
    "    'ticket':300,\n",
    "    'merch':300,\n",
    "    'share':300,\n",
    "    'stream':500\n",
    "}"
   ],
   "metadata": {
    "collapsed": false
   }
  },
  {
   "cell_type": "markdown",
   "source": [
    "## 3. Using 5 nested for loops to iterate though all cases"
   ],
   "metadata": {
    "collapsed": false
   }
  },
  {
   "cell_type": "markdown",
   "source": [
    "Task of loops (outer to inner):\n",
    "\n",
    "Loop1 iterates 2 cases:\n",
    "1. ifchange = 0 or 1 : use post-treatment period outcome or change of outcome as label\n",
    "\n",
    "loop2 iterates 2 cases:\n",
    "1. ifpreandtreat = 0 or 1 : use treatment period data or pre-treatment period and treatment period data as input data\n",
    "\n",
    "Loop2 iterates 4 cases: 4 outcomes (stream, share, merch, ticket)\n",
    "\n",
    "Loop3 iterates 3 cases:\n",
    "1. Using identified causes (step1) as input data\n",
    "2. Using only stream (active stream & programmed stream) as input data\n",
    "3. Using Audience Segments as input data\n",
    "\n",
    "Loop4 iterates 3 cases: training 3 models (XGBoost, Linear Regression, Logistic Regression)"
   ],
   "metadata": {
    "collapsed": false
   }
  },
  {
   "cell_type": "markdown",
   "source": [
    "Result: Big dictionary contains all cases' MAE score, R2 score, Coefficient table"
   ],
   "metadata": {
    "collapsed": false
   }
  },
  {
   "cell_type": "code",
   "execution_count": null,
   "metadata": {},
   "outputs": [],
   "source": [
    "fileloop = tqdm([True, False])\n",
    "ifpreandtreat = tqdm(['treat','pre1treat'])\n",
    "outcomeloop = tqdm(['stream','share','merch','ticket'])\n",
    "methodloop = tqdm(['step1','stream','seg'])\n",
    "\n",
    "# First loop: iterates two cases of ifchange\n",
    "for ifchange in fileloop:\n",
    "    # Second loop: iterates two cases of ifpreandtreat\n",
    "    for timenote in ifpreandtreat:\n",
    "        # Create dicts to store results\n",
    "        maedict = {\n",
    "            'xgb': {},\n",
    "            'linear': {},\n",
    "            'logistics': {},\n",
    "        }\n",
    "        r2dict = {\n",
    "            'xgb': {},\n",
    "            'linear': {},\n",
    "            'logistics': {},\n",
    "        }\n",
    "        coefdict = {\n",
    "            'xgb': {},\n",
    "            'linear': {},\n",
    "            'logistics': {},\n",
    "        }\n",
    "\n",
    "        # Third loop: iterates all outcomes\n",
    "        for outcomename in outcomeloop:\n",
    "            if ifchange:\n",
    "                outcomedata = extract_outcome(raw_input,allposscaues,postoutcome[outcomename],preoutcome[outcomename])\n",
    "            else:\n",
    "                outcomedata = extract_outcome(raw_input,allposscaues,postoutcome[outcomename])\n",
    "            boundvalue = bound_dict[outcomename][ifchange]\n",
    "            exclude_bigvalue_data = bound_data(outcomedata, boundvalue, ifabs=ifchange)\n",
    "            sampleddata = sample_data(exclude_bigvalue_data, sample_method='log', balance_bound=samplesize_dict[outcomename])\n",
    "            # Print shape of data after sampled\n",
    "            print('Data shape after sampling: ',sampleddata.shape)\n",
    "\n",
    "            logval = logcutoff_dict[outcomename][ifchange]\n",
    "\n",
    "            # Temporarily store results\n",
    "            maeresult = {\n",
    "                'xgb':[],\n",
    "                'linear':[],\n",
    "                'logistics':[],\n",
    "            }\n",
    "            r2result = {\n",
    "                'xgb':[],\n",
    "                'linear':[],\n",
    "                'logistics':[],\n",
    "            }\n",
    "            coefresult = {\n",
    "                'xgb':[],\n",
    "                'linear':[],\n",
    "                'logistics':[],\n",
    "            }\n",
    "\n",
    "            # Forth loop: iterate all choice of data\n",
    "            for causes_type in methodloop:\n",
    "                if causes_type == 'seg':\n",
    "                    causes_list = ['light_listener','moderate_listener','super_listener']\n",
    "                elif causes_type == 'stream':\n",
    "                    causes_list = onlystreamcause[timenote]\n",
    "                else:\n",
    "                    causes_list = cause_dict[outcomename][timenote]\n",
    "\n",
    "                # Fifth loop: iterate all models\n",
    "                for modelname in ['xgb','linear','logistics']:\n",
    "                    ypred,mae,r2,coeftabletemp = modeldata(sampleddata,model_name=modelname,selected_xvars=causes_list,logistic_cutoff=logval)\n",
    "                    maeresult[modelname].append(mae)\n",
    "                    r2result[modelname].append(r2)\n",
    "                    coefresult[modelname].append(coeftabletemp)\n",
    "                methodloop.update()\n",
    "\n",
    "            # Store results\n",
    "            for modelname in ['xgb','linear','logistics']:\n",
    "                maedict[modelname][outcomename] = maeresult[modelname]\n",
    "                r2dict[modelname][outcomename] = r2result[modelname]\n",
    "                coefdict[modelname][outcomename] = coefresult[modelname]\n",
    "            # Force to print final state\n",
    "            methodloop.refresh()\n",
    "            # Reuse tqdm bar\n",
    "            methodloop.reset()\n",
    "            # Update outer tqdm\n",
    "            outcomeloop.update()\n",
    "\n",
    "        # Save results locally ('./step23result' directory is required to store results)\n",
    "        filename = './step23result/0812_step23_ifchange_'+str(ifchange)+'_time_' + str(timenote) + '.xlsx'\n",
    "        with pd.ExcelWriter(filename) as writer:\n",
    "            for item in maedict:\n",
    "                item_mae =  pd.DataFrame(maedict[item], index = ['Step1 Causes','Only Stream','Segmentation'])\n",
    "                item_r2 =  pd.DataFrame(r2dict[item], index = ['Step1 Causes','Only Stream','Segmentation'])\n",
    "                item_mae.to_excel(writer, sheet_name= item + 'MAE')\n",
    "                item_r2.to_excel(writer, sheet_name= item + 'R2')\n",
    "        outcomeloop.refresh()\n",
    "        outcomeloop.reset()\n",
    "        ifpreandtreat.update()\n",
    "\n",
    "    ifpreandtreat.refresh()\n",
    "    ifpreandtreat.reset()\n",
    "    fileloop.update()\n"
   ]
  },
  {
   "cell_type": "code",
   "execution_count": null,
   "outputs": [],
   "source": [],
   "metadata": {
    "collapsed": false
   }
  }
 ],
 "metadata": {
  "kernelspec": {
   "display_name": "Python 3 (ipykernel)",
   "language": "python",
   "name": "python3"
  },
  "language_info": {
   "codemirror_mode": {
    "name": "ipython",
    "version": 3
   },
   "file_extension": ".py",
   "mimetype": "text/x-python",
   "name": "python",
   "nbconvert_exporter": "python",
   "pygments_lexer": "ipython3",
   "version": "3.9.0"
  }
 },
 "nbformat": 4,
 "nbformat_minor": 1
}
